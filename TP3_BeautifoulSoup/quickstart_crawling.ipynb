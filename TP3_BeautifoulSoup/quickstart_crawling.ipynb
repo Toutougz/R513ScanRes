{
 "cells": [
  {
   "cell_type": "markdown",
   "id": "1007707d-0c5d-4752-9281-778b10dfb78b",
   "metadata": {},
   "source": [
    "# Prise en main de `beautifulsoup` (suite)"
   ]
  },
  {
   "cell_type": "markdown",
   "id": "52a4b98a-25e7-437d-bf39-7114aa5d2bfd",
   "metadata": {},
   "source": [
    "<div class=\"alert alert-block alert-info\">\n",
    "<bObjectif p:</b>Ce notebook permet de découvrir les commandes de base de <code>beautifulsoup</code>, en s'appuyant sur le site <a href=\"https://quotes.toscrape.com/\"> https://quotes.toscrape.com/</a>. </div>"
   ]
  },
  {
   "cell_type": "markdown",
   "id": "5d47ac18-3dc9-462c-a9b5-2dc1e24f274d",
   "metadata": {},
   "source": [
    "🛟 Pour la suite, éditez de nouveau https://quotes.toscrape.com/ dans _Chrome_ et affichez-y les _outils de développement_. Affichez à l'écran en parallèle l'instance de Chrome ouverte et ce notebook."
   ]
  },
  {
   "cell_type": "markdown",
   "id": "17475d6a-0a14-4e0c-9b4b-8a281b4ea659",
   "metadata": {},
   "source": [
    "## Chargement des modules python"
   ]
  },
  {
   "cell_type": "markdown",
   "id": "ea2ec679-8533-42b5-914e-e76a4e49e405",
   "metadata": {},
   "source": [
    "Pour ce TP, 2 modules sont nécessaires :"
   ]
  },
  {
   "cell_type": "code",
   "execution_count": 1,
   "id": "566c5a7e-f7ac-4e81-803b-d08120857dda",
   "metadata": {},
   "outputs": [],
   "source": [
    "import requests\n",
    "import bs4      # <= beautifulsoup"
   ]
  },
  {
   "cell_type": "markdown",
   "id": "6363acc9-f877-4a13-a22b-2f1c9c4d7e7d",
   "metadata": {},
   "source": [
    "## Navigation vers la page suivante"
   ]
  },
  {
   "cell_type": "markdown",
   "id": "a6f6469d-e055-4db8-8d1d-92335ea15876",
   "metadata": {},
   "source": [
    "Partant du portail de https://quotes.toscrape.com/, on peut naviguer vers la page suivante de citation par un simple clic sur le lien `Next` (mis en forme avec un style de bouton). \n",
    "\n",
    "Observez le code source du bouton `Next`. On peut donc récupérer l'élément associé et l'URL du lien avec :"
   ]
  },
  {
   "cell_type": "code",
   "execution_count": 3,
   "id": "c4bf1807-d68e-4078-9f44-9ddc57cff247",
   "metadata": {},
   "outputs": [
    {
     "name": "stdout",
     "output_type": "stream",
     "text": [
      "/page/2/\n"
     ]
    }
   ],
   "source": [
    "# Charge la page \n",
    "url = \"http://quotes.toscrape.com/\"\n",
    "response = requests.get(url)\n",
    "source = response.text \n",
    "# Parse la page\n",
    "html = bs4.BeautifulSoup(source, 'html.parser')\n",
    "# Récupère le lien du bouton Next\n",
    "next = html.select(\"li.next a\")[0] # un seul élément\n",
    "lien_next = next.get(\"href\")\n",
    "print(lien_next)"
   ]
  },
  {
   "cell_type": "markdown",
   "id": "de19a8db-a92b-427a-ace2-2ae941fad309",
   "metadata": {},
   "source": [
    "## Gestion d'URL"
   ]
  },
  {
   "cell_type": "markdown",
   "id": "7df35f29-1b07-4916-ae31-8ea07e3ed2b0",
   "metadata": {},
   "source": [
    "L'URL ciblée est une URL relative à la racine du site Web. Pour fabriquer l'URL complète, il faut _joindre_ le nom de domaine (déjà contenu dans `url`) et la cible. Pour ce faire, on peut utiliser le module `urllib.parse` et sa fonction `urljoin` :  "
   ]
  },
  {
   "cell_type": "code",
   "execution_count": 4,
   "id": "65105ea9-8fc8-4ce0-aa12-b1f5db611a2b",
   "metadata": {},
   "outputs": [
    {
     "name": "stdout",
     "output_type": "stream",
     "text": [
      "http://quotes.toscrape.com/page/2/\n"
     ]
    }
   ],
   "source": [
    "import urllib.parse\n",
    "\n",
    "url_next = urllib.parse.urljoin(url, lien_next)\n",
    "print(url_next)"
   ]
  },
  {
   "cell_type": "markdown",
   "id": "ea608060-dad5-4c51-91dd-b1ee38a1c478",
   "metadata": {},
   "source": [
    "Dans le navigateur, rendez-vous sur http://quotes.toscrape.com/page/2/, ce qui d'un point de vue code renvient à : "
   ]
  },
  {
   "cell_type": "code",
   "execution_count": 6,
   "id": "dddd405a-9a6b-44a8-8464-c69c1424f015",
   "metadata": {},
   "outputs": [],
   "source": [
    "# Charge la 2ème page \n",
    "response = requests.get(url_next)\n",
    "source = response.text \n",
    "# Parse la page\n",
    "html = bs4.BeautifulSoup(source, 'html.parser')"
   ]
  },
  {
   "cell_type": "markdown",
   "id": "87caa9b7-595d-47a8-b7f0-cb1140331360",
   "metadata": {},
   "source": [
    "## Navigation vers la 3ème page"
   ]
  },
  {
   "cell_type": "markdown",
   "id": "5348a15f-2638-4994-85d7-2a04c7463b6e",
   "metadata": {},
   "source": [
    "Observez le code source de cette seconde page. Le bouton `Next` est toujours présent, avec le même sélecteur CSS (`li.next a`). On peut donc le récupérer et déduire l'url de la page n°3."
   ]
  },
  {
   "cell_type": "code",
   "execution_count": 12,
   "id": "24bf09b9-b77f-4982-a43c-99a1f6b79da2",
   "metadata": {},
   "outputs": [
    {
     "name": "stdout",
     "output_type": "stream",
     "text": [
      "[<a href=\"/page/3/\">Next <span aria-hidden=\"true\">→</span></a>]\n",
      "/page/3/\n",
      "http://quotes.toscrape.com/page/3/\n"
     ]
    }
   ],
   "source": [
    "# Récupère le lien du bouton Next pour aller de la page 2 à la page 3\n",
    "next = html.select(\"li.next a\")[0] # un seul élément\n",
    "print(html.select(\"li.next a\"))\n",
    "lien_next = next.get(\"href\")\n",
    "print(lien_next)\n",
    "url_next = urllib.parse.urljoin(url, lien_next)\n",
    "print(url_next)"
   ]
  },
  {
   "cell_type": "markdown",
   "id": "e0dbecc3-1140-4cbb-96fb-c64f30d03c14",
   "metadata": {},
   "source": [
    "## Détection de la dernière page"
   ]
  },
  {
   "cell_type": "markdown",
   "id": "c588d1cf-f61e-484c-b379-3f5065241f35",
   "metadata": {},
   "source": [
    "On peut ainsi procéder de la sorte jusqu'à ce qu'on atteigne la dernière page de citation. Rendez-vous sur cette dernière page (essayez par exemple https://quotes.toscrape.com/page/30/). \n",
    "\n",
    "Pour détecter la fin des pages de citation, on ne pourra pas utiliser `requests` (avec une réponse autre que le code 200) car le site renvoie bien un code source. Par contre, sur cette page, le bouton `Next` n'existe plus, signe qu'on a atteint le nombre de citation limite. On peut le détecter avec :"
   ]
  },
  {
   "cell_type": "code",
   "execution_count": 13,
   "id": "543cc1bd-1a90-47d9-8113-a7becaa02b8e",
   "metadata": {},
   "outputs": [
    {
     "name": "stdout",
     "output_type": "stream",
     "text": [
      "Le bouton Next n'existe pas\n"
     ]
    }
   ],
   "source": [
    "# Charge la 30ème page \n",
    "response = requests.get(\"https://quotes.toscrape.com/page/30/\")\n",
    "source = response.text \n",
    "# Parse la page\n",
    "html = bs4.BeautifulSoup(source, 'html.parser')\n",
    "try:\n",
    "    # Récupère le lien du bouton Next pour aller de la page 2 à la page 3\n",
    "    next = html.select(\"li.next a\")[0] # un seul élément\n",
    "except:\n",
    "    print(\"Le bouton Next n'existe pas\")"
   ]
  },
  {
   "cell_type": "markdown",
   "id": "d8e7d8a4-c900-473f-b5c5-b95e44954a87",
   "metadata": {},
   "source": [
    "## Synthèse : navigation de pages en pages"
   ]
  },
  {
   "cell_type": "markdown",
   "id": "78dbf1c8-5a84-45e4-8739-3e34eaa2f4af",
   "metadata": {},
   "source": [
    "Finalement, une navigation de pages en pages du site `https://quotes.toscrape.com/` peut être réalisée à l'aide d'une boucle de la forme : "
   ]
  },
  {
   "cell_type": "code",
   "execution_count": 14,
   "id": "7209d197-8ef1-4ab6-9b39-d80e02508080",
   "metadata": {},
   "outputs": [
    {
     "name": "stdout",
     "output_type": "stream",
     "text": [
      "Chargement de http://quotes.toscrape.com/\n",
      "Chargement de http://quotes.toscrape.com/page/2/\n",
      "Chargement de http://quotes.toscrape.com/page/3/\n",
      "Chargement de http://quotes.toscrape.com/page/4/\n",
      "Chargement de http://quotes.toscrape.com/page/5/\n",
      "Chargement de http://quotes.toscrape.com/page/6/\n",
      "Chargement de http://quotes.toscrape.com/page/7/\n",
      "Chargement de http://quotes.toscrape.com/page/8/\n",
      "Chargement de http://quotes.toscrape.com/page/9/\n",
      "Chargement de http://quotes.toscrape.com/page/10/\n",
      "Le bouton Next n'existe pas\n"
     ]
    }
   ],
   "source": [
    "nom_site = \"http://quotes.toscrape.com/\"\n",
    "\n",
    "a_charger = nom_site\n",
    "\n",
    "fin_navigation = False\n",
    "while not fin_navigation:\n",
    "    # Charge la 30ème page \n",
    "    print(f\"Chargement de {a_charger}\")\n",
    "    response = requests.get(a_charger)\n",
    "    source = response.text \n",
    "    \n",
    "    # Parse la page\n",
    "    html = bs4.BeautifulSoup(source, 'html.parser')\n",
    "    try:\n",
    "        # Récupère le lien du bouton Next pour aller de la page 2 à la page 3\n",
    "        next = html.select(\"li.next a\")[0] # un seul élément\n",
    "        lien_next = next.get(\"href\") # lien de la prochaine page\n",
    "        a_charger = urllib.parse.urljoin(url, lien_next) # URL cible pour l'itération suivante\n",
    "    except:\n",
    "        fin_navigation = True\n",
    "        print(\"Le bouton Next n'existe pas\")"
   ]
  },
  {
   "cell_type": "markdown",
   "id": "dab5f07e-0b77-4b13-be8d-56e3bf257a9d",
   "metadata": {},
   "source": [
    "Chaque page chargée peut bien sur être traitée avec beautifulsoup pour en extraire des données..."
   ]
  },
  {
   "cell_type": "code",
   "execution_count": null,
   "id": "5992459b-9110-4fa9-a5dd-352d672fab46",
   "metadata": {},
   "outputs": [],
   "source": []
  }
 ],
 "metadata": {
  "kernelspec": {
   "display_name": ".venv",
   "language": "python",
   "name": "python3"
  },
  "language_info": {
   "codemirror_mode": {
    "name": "ipython",
    "version": 3
   },
   "file_extension": ".py",
   "mimetype": "text/x-python",
   "name": "python",
   "nbconvert_exporter": "python",
   "pygments_lexer": "ipython3",
   "version": "3.11.5"
  }
 },
 "nbformat": 4,
 "nbformat_minor": 5
}
