{
 "cells": [
  {
   "cell_type": "markdown",
   "id": "1007707d-0c5d-4752-9281-778b10dfb78b",
   "metadata": {},
   "source": [
    "# Prise en main de `beautifulsoup`"
   ]
  },
  {
   "cell_type": "markdown",
   "id": "52a4b98a-25e7-437d-bf39-7114aa5d2bfd",
   "metadata": {},
   "source": [
    "<div class=\"alert alert-block alert-info\">\n",
    "<bObjectif p:</b>Ce notebook permet de découvrir les commandes de base de <code>beautifulsoup</code>, en s'appuyant sur le site <a href=\"https://quotes.toscrape.com/\"> https://quotes.toscrape.com/</a>. </div>"
   ]
  },
  {
   "cell_type": "markdown",
   "id": "5d47ac18-3dc9-462c-a9b5-2dc1e24f274d",
   "metadata": {},
   "source": [
    "🛟 Pour la suite, éditez https://quotes.toscrape.com/ dans _Chrome_ et affichez-y les _outils de développement_. Affichez à l'écran en parallèle l'instance de Chrome ouverte et ce notebook."
   ]
  },
  {
   "cell_type": "markdown",
   "id": "17475d6a-0a14-4e0c-9b4b-8a281b4ea659",
   "metadata": {},
   "source": [
    "## Chargement des modules python"
   ]
  },
  {
   "cell_type": "markdown",
   "id": "ea2ec679-8533-42b5-914e-e76a4e49e405",
   "metadata": {},
   "source": [
    "Pour ce TP, 2 modules sont nécessaires :"
   ]
  },
  {
   "cell_type": "code",
   "execution_count": 1,
   "id": "566c5a7e-f7ac-4e81-803b-d08120857dda",
   "metadata": {},
   "outputs": [],
   "source": [
    "import requests\n",
    "import bs4      # <= beautifulsoup"
   ]
  },
  {
   "cell_type": "markdown",
   "id": "6363acc9-f877-4a13-a22b-2f1c9c4d7e7d",
   "metadata": {},
   "source": [
    "## Chargement d'un code source"
   ]
  },
  {
   "cell_type": "markdown",
   "id": "c1f85a25-df24-42a2-88ef-257cd806543f",
   "metadata": {},
   "source": [
    "Dans la lignée du TP précédent, on peut récupérer le code source (HTML) de la page http://quotes.toscrape.com/ avec : "
   ]
  },
  {
   "cell_type": "code",
   "execution_count": 2,
   "id": "12ca8967-8a18-47cb-9dea-31e8a2db97e2",
   "metadata": {},
   "outputs": [
    {
     "name": "stdout",
     "output_type": "stream",
     "text": [
      "<!DOCTYPE html>\n",
      "<html lang=\"en\">\n",
      "<head>\n",
      "\t<meta charset=\"UTF-8\">\n",
      "\t<title>Quotes to Scrape</title>\n",
      "    <link rel=\"stylesheet\" href=\"/static/bootstrap.min.css\">\n",
      "    <link rel=\"stylesheet\" href=\"/static/main.css\">\n",
      "    \n",
      "    \n",
      "</head>\n",
      "<body>\n",
      "    <div class=\"container\">\n",
      "        <div class=\"row header-box\">\n",
      "            <div class=\"col-md-8\">\n",
      "                <h1>\n",
      "                    <a href=\"/\" style=\"text-decoration: none\">Quotes to Scrape</a>\n",
      "                </h1>\n",
      "            </div>\n",
      "            <div class=\"col-md-4\">\n",
      "                <p>\n",
      "                \n",
      "                    <a href=\"/login\">Login</a>\n",
      "                \n",
      "                </p>\n",
      "            </div>\n",
      "        </div>\n",
      "    \n",
      "\n",
      "<div class=\"row\">\n",
      "    <div class=\"col-md-8\">\n",
      "\n",
      "    <div class=\"quote\" itemscope itemtype=\"http://schema.org/CreativeWork\">\n",
      "        <span class=\"text\" itemprop=\"text\">“The world as we have created it is a process of our thinking. It cannot be changed without changing our thinking.”</span>\n",
      "        <span>by <small class=\"author\" itemprop=\"author\">Albert Einstein</small>\n",
      "        <a href=\"/author/Albert-Einstein\">(about)</a>\n",
      "        </span>\n",
      "        <div class=\"tags\">\n",
      "            Tags:\n",
      "            <meta class=\"keywords\" itemprop=\"keywords\" content=\"change,deep-thoughts,thinking,world\" /    > \n",
      "            \n",
      "            <a class=\"tag\" href=\"/tag/change/page/1/\">change</a>\n",
      "            \n",
      "            <a class=\"tag\" href=\"/tag/deep-thoughts/page/1/\">deep-thoughts</a>\n",
      "            \n",
      "            <a class=\"tag\" href=\"/tag/thinking/page/1/\">thinking</a>\n",
      "            \n",
      "            <a class=\"tag\" href=\"/tag/world/page/1/\">world</a>\n",
      "            \n",
      "        </div>\n",
      "    </div>\n",
      "\n",
      "    <div class=\"quote\" itemscope itemtype=\"http://schema.org/CreativeWork\">\n",
      "        <span class=\"text\" itemprop=\"text\">“It is our choices, Harry, that show what we truly are, far more than our abilities.”</span>\n",
      "        <span>by <small class=\"author\" itemprop=\"author\">J.K. Rowling</small>\n",
      "        <a href=\"/author/J-K-Rowling\">(about)</a>\n",
      "        </span>\n",
      "        <div class=\"tags\">\n",
      "            Tags:\n",
      "            <meta class=\"keywords\" itemprop=\"keywords\" content=\"abilities,choices\" /    > \n",
      "            \n",
      "            <a class=\"tag\" href=\"/tag/abilities/page/1/\">abilities</a>\n",
      "            \n",
      "            <a class=\"tag\" href=\"/tag/choices/page/1/\">choices</a>\n",
      "            \n",
      "        </div>\n",
      "    </div>\n",
      "\n",
      "    <div class=\"quote\" itemscope itemtype=\"http://schema.org/CreativeWork\">\n",
      "        <span class=\"text\" itemprop=\"text\">“There are only two ways to live your life. One is as though nothing is a miracle. The other is as though everything is a miracle.”</span>\n",
      "        <span>by <small class=\"author\" itemprop=\"author\">Albert Einstein</small>\n",
      "        <a href=\"/author/Albert-Einstein\">(about)</a>\n",
      "        </span>\n",
      "        <div class=\"tags\">\n",
      "            Tags:\n",
      "            <meta class=\"keywords\" itemprop=\"keywords\" content=\"inspirational,life,live,miracle,miracles\" /    > \n",
      "            \n",
      "            <a class=\"tag\" href=\"/tag/inspirational/page/1/\">inspirational</a>\n",
      "            \n",
      "            <a class=\"tag\" href=\"/tag/life/page/1/\">life</a>\n",
      "            \n",
      "            <a class=\"tag\" href=\"/tag/live/page/1/\">live</a>\n",
      "            \n",
      "            <a class=\"tag\" href=\"/tag/miracle/page/1/\">miracle</a>\n",
      "            \n",
      "            <a class=\"tag\" href=\"/tag/miracles/page/1/\">miracles</a>\n",
      "            \n",
      "        </div>\n",
      "    </div>\n",
      "\n",
      "    <div class=\"quote\" itemscope itemtype=\"http://schema.org/CreativeWork\">\n",
      "        <span class=\"text\" itemprop=\"text\">“The person, be it gentleman or lady, who has not pleasure in a good novel, must be intolerably stupid.”</span>\n",
      "        <span>by <small class=\"author\" itemprop=\"author\">Jane Austen</small>\n",
      "        <a href=\"/author/Jane-Austen\">(about)</a>\n",
      "        </span>\n",
      "        <div class=\"tags\">\n",
      "            Tags:\n",
      "            <meta class=\"keywords\" itemprop=\"keywords\" content=\"aliteracy,books,classic,humor\" /    > \n",
      "            \n",
      "            <a class=\"tag\" href=\"/tag/aliteracy/page/1/\">aliteracy</a>\n",
      "            \n",
      "            <a class=\"tag\" href=\"/tag/books/page/1/\">books</a>\n",
      "            \n",
      "            <a class=\"tag\" href=\"/tag/classic/page/1/\">classic</a>\n",
      "            \n",
      "            <a class=\"tag\" href=\"/tag/humor/page/1/\">humor</a>\n",
      "            \n",
      "        </div>\n",
      "    </div>\n",
      "\n",
      "    <div class=\"quote\" itemscope itemtype=\"http://schema.org/CreativeWork\">\n",
      "        <span class=\"text\" itemprop=\"text\">“Imperfection is beauty, madness is genius and it&#39;s better to be absolutely ridiculous than absolutely boring.”</span>\n",
      "        <span>by <small class=\"author\" itemprop=\"author\">Marilyn Monroe</small>\n",
      "        <a href=\"/author/Marilyn-Monroe\">(about)</a>\n",
      "        </span>\n",
      "        <div class=\"tags\">\n",
      "            Tags:\n",
      "            <meta class=\"keywords\" itemprop=\"keywords\" content=\"be-yourself,inspirational\" /    > \n",
      "            \n",
      "            <a class=\"tag\" href=\"/tag/be-yourself/page/1/\">be-yourself</a>\n",
      "            \n",
      "            <a class=\"tag\" href=\"/tag/inspirational/page/1/\">inspirational</a>\n",
      "            \n",
      "        </div>\n",
      "    </div>\n",
      "\n",
      "    <div class=\"quote\" itemscope itemtype=\"http://schema.org/CreativeWork\">\n",
      "        <span class=\"text\" itemprop=\"text\">“Try not to become a man of success. Rather become a man of value.”</span>\n",
      "        <span>by <small class=\"author\" itemprop=\"author\">Albert Einstein</small>\n",
      "        <a href=\"/author/Albert-Einstein\">(about)</a>\n",
      "        </span>\n",
      "        <div class=\"tags\">\n",
      "            Tags:\n",
      "            <meta class=\"keywords\" itemprop=\"keywords\" content=\"adulthood,success,value\" /    > \n",
      "            \n",
      "            <a class=\"tag\" href=\"/tag/adulthood/page/1/\">adulthood</a>\n",
      "            \n",
      "            <a class=\"tag\" href=\"/tag/success/page/1/\">success</a>\n",
      "            \n",
      "            <a class=\"tag\" href=\"/tag/value/page/1/\">value</a>\n",
      "            \n",
      "        </div>\n",
      "    </div>\n",
      "\n",
      "    <div class=\"quote\" itemscope itemtype=\"http://schema.org/CreativeWork\">\n",
      "        <span class=\"text\" itemprop=\"text\">“It is better to be hated for what you are than to be loved for what you are not.”</span>\n",
      "        <span>by <small class=\"author\" itemprop=\"author\">André Gide</small>\n",
      "        <a href=\"/author/Andre-Gide\">(about)</a>\n",
      "        </span>\n",
      "        <div class=\"tags\">\n",
      "            Tags:\n",
      "            <meta class=\"keywords\" itemprop=\"keywords\" content=\"life,love\" /    > \n",
      "            \n",
      "            <a class=\"tag\" href=\"/tag/life/page/1/\">life</a>\n",
      "            \n",
      "            <a class=\"tag\" href=\"/tag/love/page/1/\">love</a>\n",
      "            \n",
      "        </div>\n",
      "    </div>\n",
      "\n",
      "    <div class=\"quote\" itemscope itemtype=\"http://schema.org/CreativeWork\">\n",
      "        <span class=\"text\" itemprop=\"text\">“I have not failed. I&#39;ve just found 10,000 ways that won&#39;t work.”</span>\n",
      "        <span>by <small class=\"author\" itemprop=\"author\">Thomas A. Edison</small>\n",
      "        <a href=\"/author/Thomas-A-Edison\">(about)</a>\n",
      "        </span>\n",
      "        <div class=\"tags\">\n",
      "            Tags:\n",
      "            <meta class=\"keywords\" itemprop=\"keywords\" content=\"edison,failure,inspirational,paraphrased\" /    > \n",
      "            \n",
      "            <a class=\"tag\" href=\"/tag/edison/page/1/\">edison</a>\n",
      "            \n",
      "            <a class=\"tag\" href=\"/tag/failure/page/1/\">failure</a>\n",
      "            \n",
      "            <a class=\"tag\" href=\"/tag/inspirational/page/1/\">inspirational</a>\n",
      "            \n",
      "            <a class=\"tag\" href=\"/tag/paraphrased/page/1/\">paraphrased</a>\n",
      "            \n",
      "        </div>\n",
      "    </div>\n",
      "\n",
      "    <div class=\"quote\" itemscope itemtype=\"http://schema.org/CreativeWork\">\n",
      "        <span class=\"text\" itemprop=\"text\">“A woman is like a tea bag; you never know how strong it is until it&#39;s in hot water.”</span>\n",
      "        <span>by <small class=\"author\" itemprop=\"author\">Eleanor Roosevelt</small>\n",
      "        <a href=\"/author/Eleanor-Roosevelt\">(about)</a>\n",
      "        </span>\n",
      "        <div class=\"tags\">\n",
      "            Tags:\n",
      "            <meta class=\"keywords\" itemprop=\"keywords\" content=\"misattributed-eleanor-roosevelt\" /    > \n",
      "            \n",
      "            <a class=\"tag\" href=\"/tag/misattributed-eleanor-roosevelt/page/1/\">misattributed-eleanor-roosevelt</a>\n",
      "            \n",
      "        </div>\n",
      "    </div>\n",
      "\n",
      "    <div class=\"quote\" itemscope itemtype=\"http://schema.org/CreativeWork\">\n",
      "        <span class=\"text\" itemprop=\"text\">“A day without sunshine is like, you know, night.”</span>\n",
      "        <span>by <small class=\"author\" itemprop=\"author\">Steve Martin</small>\n",
      "        <a href=\"/author/Steve-Martin\">(about)</a>\n",
      "        </span>\n",
      "        <div class=\"tags\">\n",
      "            Tags:\n",
      "            <meta class=\"keywords\" itemprop=\"keywords\" content=\"humor,obvious,simile\" /    > \n",
      "            \n",
      "            <a class=\"tag\" href=\"/tag/humor/page/1/\">humor</a>\n",
      "            \n",
      "            <a class=\"tag\" href=\"/tag/obvious/page/1/\">obvious</a>\n",
      "            \n",
      "            <a class=\"tag\" href=\"/tag/simile/page/1/\">simile</a>\n",
      "            \n",
      "        </div>\n",
      "    </div>\n",
      "\n",
      "    <nav>\n",
      "        <ul class=\"pager\">\n",
      "            \n",
      "            \n",
      "            <li class=\"next\">\n",
      "                <a href=\"/page/2/\">Next <span aria-hidden=\"true\">&rarr;</span></a>\n",
      "            </li>\n",
      "            \n",
      "        </ul>\n",
      "    </nav>\n",
      "    </div>\n",
      "    <div class=\"col-md-4 tags-box\">\n",
      "        \n",
      "            <h2>Top Ten tags</h2>\n",
      "            \n",
      "            <span class=\"tag-item\">\n",
      "            <a class=\"tag\" style=\"font-size: 28px\" href=\"/tag/love/\">love</a>\n",
      "            </span>\n",
      "            \n",
      "            <span class=\"tag-item\">\n",
      "            <a class=\"tag\" style=\"font-size: 26px\" href=\"/tag/inspirational/\">inspirational</a>\n",
      "            </span>\n",
      "            \n",
      "            <span class=\"tag-item\">\n",
      "            <a class=\"tag\" style=\"font-size: 26px\" href=\"/tag/life/\">life</a>\n",
      "            </span>\n",
      "            \n",
      "            <span class=\"tag-item\">\n",
      "            <a class=\"tag\" style=\"font-size: 24px\" href=\"/tag/humor/\">humor</a>\n",
      "            </span>\n",
      "            \n",
      "            <span class=\"tag-item\">\n",
      "            <a class=\"tag\" style=\"font-size: 22px\" href=\"/tag/books/\">books</a>\n",
      "            </span>\n",
      "            \n",
      "            <span class=\"tag-item\">\n",
      "            <a class=\"tag\" style=\"font-size: 14px\" href=\"/tag/reading/\">reading</a>\n",
      "            </span>\n",
      "            \n",
      "            <span class=\"tag-item\">\n",
      "            <a class=\"tag\" style=\"font-size: 10px\" href=\"/tag/friendship/\">friendship</a>\n",
      "            </span>\n",
      "            \n",
      "            <span class=\"tag-item\">\n",
      "            <a class=\"tag\" style=\"font-size: 8px\" href=\"/tag/friends/\">friends</a>\n",
      "            </span>\n",
      "            \n",
      "            <span class=\"tag-item\">\n",
      "            <a class=\"tag\" style=\"font-size: 8px\" href=\"/tag/truth/\">truth</a>\n",
      "            </span>\n",
      "            \n",
      "            <span class=\"tag-item\">\n",
      "            <a class=\"tag\" style=\"font-size: 6px\" href=\"/tag/simile/\">simile</a>\n",
      "            </span>\n",
      "            \n",
      "        \n",
      "    </div>\n",
      "</div>\n",
      "\n",
      "    </div>\n",
      "    <footer class=\"footer\">\n",
      "        <div class=\"container\">\n",
      "            <p class=\"text-muted\">\n",
      "                Quotes by: <a href=\"https://www.goodreads.com/quotes\">GoodReads.com</a>\n",
      "            </p>\n",
      "            <p class=\"copyright\">\n",
      "                Made with <span class='zyte'>❤</span> by <a class='zyte' href=\"https://www.zyte.com\">Zyte</a>\n",
      "            </p>\n",
      "        </div>\n",
      "    </footer>\n",
      "</body>\n",
      "</html>\n"
     ]
    }
   ],
   "source": [
    "url = \"http://quotes.toscrape.com/\"\n",
    "response = requests.get(url)\n",
    "source = response.text \n",
    "print(source)"
   ]
  },
  {
   "cell_type": "markdown",
   "id": "3652f105-6e2c-4907-8333-c31e7139e98e",
   "metadata": {},
   "source": [
    "## _Parsing_ du code source"
   ]
  },
  {
   "cell_type": "markdown",
   "id": "3c1369bb-ca49-4c3d-85d6-da048adb975c",
   "metadata": {},
   "source": [
    "Pour découper/**parser** le code source au sens du langage HTML et obtenir l'ensemble de ses données structurées par ses **balises**, on utilise : "
   ]
  },
  {
   "cell_type": "code",
   "execution_count": 3,
   "id": "60f53905-a152-4aae-a954-1793562a69f5",
   "metadata": {},
   "outputs": [],
   "source": [
    "html = bs4.BeautifulSoup(source, 'html.parser')"
   ]
  },
  {
   "cell_type": "markdown",
   "id": "5ff2b8f1-2b80-4862-84af-2b8ed461877e",
   "metadata": {},
   "source": [
    "Un affichage du code source avec mise en valeur (par _tabulation_) de l'arborescence de balises s'obtient avec : "
   ]
  },
  {
   "cell_type": "code",
   "execution_count": 4,
   "id": "0ef24918-1eee-449b-ac22-265892229373",
   "metadata": {},
   "outputs": [
    {
     "name": "stdout",
     "output_type": "stream",
     "text": [
      "<!DOCTYPE html>\n",
      "<html lang=\"en\">\n",
      " <head>\n",
      "  <meta charset=\"utf-8\"/>\n",
      "  <title>\n",
      "   Quotes to Scrape\n",
      "  </title>\n",
      "  <link href=\"/static/bootstrap.min.css\" rel=\"stylesheet\"/>\n",
      "  <link href=\"/static/main.css\" rel=\"stylesheet\"/>\n",
      " </head>\n",
      " <body>\n",
      "  <div class=\"container\">\n",
      "   <div class=\"row header-box\">\n",
      "    <div class=\"col-md-8\">\n",
      "     <h1>\n",
      "      <a href=\"/\" style=\"text-decoration: none\">\n",
      "       Quotes to Scrape\n",
      "      </a>\n",
      "     </h1>\n",
      "    </div>\n",
      "    <div class=\"col-md-4\">\n",
      "     <p>\n",
      "      <a href=\"/login\">\n",
      "       Login\n",
      "      </a>\n",
      "     </p>\n",
      "    </div>\n",
      "   </div>\n",
      "   <div class=\"row\">\n",
      "    <div class=\"col-md-8\">\n",
      "     <div class=\"quote\" itemscope=\"\" itemtype=\"http://schema.org/CreativeWork\">\n",
      "      <span class=\"text\" itemprop=\"text\">\n",
      "       “The world as we have created it is a process of our thinking. It cannot be changed without changing our thinking.”\n",
      "      </span>\n",
      "      <span>\n",
      "       by\n",
      "       <small class=\"author\" itemprop=\"author\">\n",
      "        Albert Einstein\n",
      "       </small>\n",
      "       <a href=\"/author/Albert-Einstein\">\n",
      "        (about)\n",
      "       </a>\n",
      "      </span>\n",
      "      <div class=\"tags\">\n",
      "       Tags:\n",
      "       <meta class=\"keywords\" content=\"change,deep-thoughts,thinking,world\" itemprop=\"keywords\"/>\n",
      "       <a class=\"tag\" href=\"/tag/change/page/1/\">\n",
      "        change\n",
      "       </a>\n",
      "       <a class=\"tag\" href=\"/tag/deep-thoughts/page/1/\">\n",
      "        deep-thoughts\n",
      "       </a>\n",
      "       <a class=\"tag\" href=\"/tag/thinking/page/1/\">\n",
      "        thinking\n",
      "       </a>\n",
      "       <a class=\"tag\" href=\"/tag/world/page/1/\">\n",
      "        world\n",
      "       </a>\n",
      "      </div>\n",
      "     </div>\n",
      "     <div class=\"quote\" itemscope=\"\" itemtype=\"http://schema.org/CreativeWork\">\n",
      "      <span class=\"text\" itemprop=\"text\">\n",
      "       “It is our choices, Harry, that show what we truly are, far more than our abilities.”\n",
      "      </span>\n",
      "      <span>\n",
      "       by\n",
      "       <small class=\"author\" itemprop=\"author\">\n",
      "        J.K. Rowling\n",
      "       </small>\n",
      "       <a href=\"/author/J-K-Rowling\">\n",
      "        (about)\n",
      "       </a>\n",
      "      </span>\n",
      "      <div class=\"tags\">\n",
      "       Tags:\n",
      "       <meta class=\"keywords\" content=\"abilities,choices\" itemprop=\"keywords\"/>\n",
      "       <a class=\"tag\" href=\"/tag/abilities/page/1/\">\n",
      "        abilities\n",
      "       </a>\n",
      "       <a class=\"tag\" href=\"/tag/choices/page/1/\">\n",
      "        choices\n",
      "       </a>\n",
      "      </div>\n",
      "     </div>\n",
      "     <div class=\"quote\" itemscope=\"\" itemtype=\"http://schema.org/CreativeWork\">\n",
      "      <span class=\"text\" itemprop=\"text\">\n",
      "       “There are only two ways to live your life. One is as though nothing is a miracle. The other is as though everything is a miracle.”\n",
      "      </span>\n",
      "      <span>\n",
      "       by\n",
      "       <small class=\"author\" itemprop=\"author\">\n",
      "        Albert Einstein\n",
      "       </small>\n",
      "       <a href=\"/author/Albert-Einstein\">\n",
      "        (about)\n",
      "       </a>\n",
      "      </span>\n",
      "      <div class=\"tags\">\n",
      "       Tags:\n",
      "       <meta class=\"keywords\" content=\"inspirational,life,live,miracle,miracles\" itemprop=\"keywords\"/>\n",
      "       <a class=\"tag\" href=\"/tag/inspirational/page/1/\">\n",
      "        inspirational\n",
      "       </a>\n",
      "       <a class=\"tag\" href=\"/tag/life/page/1/\">\n",
      "        life\n",
      "       </a>\n",
      "       <a class=\"tag\" href=\"/tag/live/page/1/\">\n",
      "        live\n",
      "       </a>\n",
      "       <a class=\"tag\" href=\"/tag/miracle/page/1/\">\n",
      "        miracle\n",
      "       </a>\n",
      "       <a class=\"tag\" href=\"/tag/miracles/page/1/\">\n",
      "        miracles\n",
      "       </a>\n",
      "      </div>\n",
      "     </div>\n",
      "     <div class=\"quote\" itemscope=\"\" itemtype=\"http://schema.org/CreativeWork\">\n",
      "      <span class=\"text\" itemprop=\"text\">\n",
      "       “The person, be it gentleman or lady, who has not pleasure in a good novel, must be intolerably stupid.”\n",
      "      </span>\n",
      "      <span>\n",
      "       by\n",
      "       <small class=\"author\" itemprop=\"author\">\n",
      "        Jane Austen\n",
      "       </small>\n",
      "       <a href=\"/author/Jane-Austen\">\n",
      "        (about)\n",
      "       </a>\n",
      "      </span>\n",
      "      <div class=\"tags\">\n",
      "       Tags:\n",
      "       <meta class=\"keywords\" content=\"aliteracy,books,classic,humor\" itemprop=\"keywords\"/>\n",
      "       <a class=\"tag\" href=\"/tag/aliteracy/page/1/\">\n",
      "        aliteracy\n",
      "       </a>\n",
      "       <a class=\"tag\" href=\"/tag/books/page/1/\">\n",
      "        books\n",
      "       </a>\n",
      "       <a class=\"tag\" href=\"/tag/classic/page/1/\">\n",
      "        classic\n",
      "       </a>\n",
      "       <a class=\"tag\" href=\"/tag/humor/page/1/\">\n",
      "        humor\n",
      "       </a>\n",
      "      </div>\n",
      "     </div>\n",
      "     <div class=\"quote\" itemscope=\"\" itemtype=\"http://schema.org/CreativeWork\">\n",
      "      <span class=\"text\" itemprop=\"text\">\n",
      "       “Imperfection is beauty, madness is genius and it's better to be absolutely ridiculous than absolutely boring.”\n",
      "      </span>\n",
      "      <span>\n",
      "       by\n",
      "       <small class=\"author\" itemprop=\"author\">\n",
      "        Marilyn Monroe\n",
      "       </small>\n",
      "       <a href=\"/author/Marilyn-Monroe\">\n",
      "        (about)\n",
      "       </a>\n",
      "      </span>\n",
      "      <div class=\"tags\">\n",
      "       Tags:\n",
      "       <meta class=\"keywords\" content=\"be-yourself,inspirational\" itemprop=\"keywords\"/>\n",
      "       <a class=\"tag\" href=\"/tag/be-yourself/page/1/\">\n",
      "        be-yourself\n",
      "       </a>\n",
      "       <a class=\"tag\" href=\"/tag/inspirational/page/1/\">\n",
      "        inspirational\n",
      "       </a>\n",
      "      </div>\n",
      "     </div>\n",
      "     <div class=\"quote\" itemscope=\"\" itemtype=\"http://schema.org/CreativeWork\">\n",
      "      <span class=\"text\" itemprop=\"text\">\n",
      "       “Try not to become a man of success. Rather become a man of value.”\n",
      "      </span>\n",
      "      <span>\n",
      "       by\n",
      "       <small class=\"author\" itemprop=\"author\">\n",
      "        Albert Einstein\n",
      "       </small>\n",
      "       <a href=\"/author/Albert-Einstein\">\n",
      "        (about)\n",
      "       </a>\n",
      "      </span>\n",
      "      <div class=\"tags\">\n",
      "       Tags:\n",
      "       <meta class=\"keywords\" content=\"adulthood,success,value\" itemprop=\"keywords\"/>\n",
      "       <a class=\"tag\" href=\"/tag/adulthood/page/1/\">\n",
      "        adulthood\n",
      "       </a>\n",
      "       <a class=\"tag\" href=\"/tag/success/page/1/\">\n",
      "        success\n",
      "       </a>\n",
      "       <a class=\"tag\" href=\"/tag/value/page/1/\">\n",
      "        value\n",
      "       </a>\n",
      "      </div>\n",
      "     </div>\n",
      "     <div class=\"quote\" itemscope=\"\" itemtype=\"http://schema.org/CreativeWork\">\n",
      "      <span class=\"text\" itemprop=\"text\">\n",
      "       “It is better to be hated for what you are than to be loved for what you are not.”\n",
      "      </span>\n",
      "      <span>\n",
      "       by\n",
      "       <small class=\"author\" itemprop=\"author\">\n",
      "        André Gide\n",
      "       </small>\n",
      "       <a href=\"/author/Andre-Gide\">\n",
      "        (about)\n",
      "       </a>\n",
      "      </span>\n",
      "      <div class=\"tags\">\n",
      "       Tags:\n",
      "       <meta class=\"keywords\" content=\"life,love\" itemprop=\"keywords\"/>\n",
      "       <a class=\"tag\" href=\"/tag/life/page/1/\">\n",
      "        life\n",
      "       </a>\n",
      "       <a class=\"tag\" href=\"/tag/love/page/1/\">\n",
      "        love\n",
      "       </a>\n",
      "      </div>\n",
      "     </div>\n",
      "     <div class=\"quote\" itemscope=\"\" itemtype=\"http://schema.org/CreativeWork\">\n",
      "      <span class=\"text\" itemprop=\"text\">\n",
      "       “I have not failed. I've just found 10,000 ways that won't work.”\n",
      "      </span>\n",
      "      <span>\n",
      "       by\n",
      "       <small class=\"author\" itemprop=\"author\">\n",
      "        Thomas A. Edison\n",
      "       </small>\n",
      "       <a href=\"/author/Thomas-A-Edison\">\n",
      "        (about)\n",
      "       </a>\n",
      "      </span>\n",
      "      <div class=\"tags\">\n",
      "       Tags:\n",
      "       <meta class=\"keywords\" content=\"edison,failure,inspirational,paraphrased\" itemprop=\"keywords\"/>\n",
      "       <a class=\"tag\" href=\"/tag/edison/page/1/\">\n",
      "        edison\n",
      "       </a>\n",
      "       <a class=\"tag\" href=\"/tag/failure/page/1/\">\n",
      "        failure\n",
      "       </a>\n",
      "       <a class=\"tag\" href=\"/tag/inspirational/page/1/\">\n",
      "        inspirational\n",
      "       </a>\n",
      "       <a class=\"tag\" href=\"/tag/paraphrased/page/1/\">\n",
      "        paraphrased\n",
      "       </a>\n",
      "      </div>\n",
      "     </div>\n",
      "     <div class=\"quote\" itemscope=\"\" itemtype=\"http://schema.org/CreativeWork\">\n",
      "      <span class=\"text\" itemprop=\"text\">\n",
      "       “A woman is like a tea bag; you never know how strong it is until it's in hot water.”\n",
      "      </span>\n",
      "      <span>\n",
      "       by\n",
      "       <small class=\"author\" itemprop=\"author\">\n",
      "        Eleanor Roosevelt\n",
      "       </small>\n",
      "       <a href=\"/author/Eleanor-Roosevelt\">\n",
      "        (about)\n",
      "       </a>\n",
      "      </span>\n",
      "      <div class=\"tags\">\n",
      "       Tags:\n",
      "       <meta class=\"keywords\" content=\"misattributed-eleanor-roosevelt\" itemprop=\"keywords\"/>\n",
      "       <a class=\"tag\" href=\"/tag/misattributed-eleanor-roosevelt/page/1/\">\n",
      "        misattributed-eleanor-roosevelt\n",
      "       </a>\n",
      "      </div>\n",
      "     </div>\n",
      "     <div class=\"quote\" itemscope=\"\" itemtype=\"http://schema.org/CreativeWork\">\n",
      "      <span class=\"text\" itemprop=\"text\">\n",
      "       “A day without sunshine is like, you know, night.”\n",
      "      </span>\n",
      "      <span>\n",
      "       by\n",
      "       <small class=\"author\" itemprop=\"author\">\n",
      "        Steve Martin\n",
      "       </small>\n",
      "       <a href=\"/author/Steve-Martin\">\n",
      "        (about)\n",
      "       </a>\n",
      "      </span>\n",
      "      <div class=\"tags\">\n",
      "       Tags:\n",
      "       <meta class=\"keywords\" content=\"humor,obvious,simile\" itemprop=\"keywords\"/>\n",
      "       <a class=\"tag\" href=\"/tag/humor/page/1/\">\n",
      "        humor\n",
      "       </a>\n",
      "       <a class=\"tag\" href=\"/tag/obvious/page/1/\">\n",
      "        obvious\n",
      "       </a>\n",
      "       <a class=\"tag\" href=\"/tag/simile/page/1/\">\n",
      "        simile\n",
      "       </a>\n",
      "      </div>\n",
      "     </div>\n",
      "     <nav>\n",
      "      <ul class=\"pager\">\n",
      "       <li class=\"next\">\n",
      "        <a href=\"/page/2/\">\n",
      "         Next\n",
      "         <span aria-hidden=\"true\">\n",
      "          →\n",
      "         </span>\n",
      "        </a>\n",
      "       </li>\n",
      "      </ul>\n",
      "     </nav>\n",
      "    </div>\n",
      "    <div class=\"col-md-4 tags-box\">\n",
      "     <h2>\n",
      "      Top Ten tags\n",
      "     </h2>\n",
      "     <span class=\"tag-item\">\n",
      "      <a class=\"tag\" href=\"/tag/love/\" style=\"font-size: 28px\">\n",
      "       love\n",
      "      </a>\n",
      "     </span>\n",
      "     <span class=\"tag-item\">\n",
      "      <a class=\"tag\" href=\"/tag/inspirational/\" style=\"font-size: 26px\">\n",
      "       inspirational\n",
      "      </a>\n",
      "     </span>\n",
      "     <span class=\"tag-item\">\n",
      "      <a class=\"tag\" href=\"/tag/life/\" style=\"font-size: 26px\">\n",
      "       life\n",
      "      </a>\n",
      "     </span>\n",
      "     <span class=\"tag-item\">\n",
      "      <a class=\"tag\" href=\"/tag/humor/\" style=\"font-size: 24px\">\n",
      "       humor\n",
      "      </a>\n",
      "     </span>\n",
      "     <span class=\"tag-item\">\n",
      "      <a class=\"tag\" href=\"/tag/books/\" style=\"font-size: 22px\">\n",
      "       books\n",
      "      </a>\n",
      "     </span>\n",
      "     <span class=\"tag-item\">\n",
      "      <a class=\"tag\" href=\"/tag/reading/\" style=\"font-size: 14px\">\n",
      "       reading\n",
      "      </a>\n",
      "     </span>\n",
      "     <span class=\"tag-item\">\n",
      "      <a class=\"tag\" href=\"/tag/friendship/\" style=\"font-size: 10px\">\n",
      "       friendship\n",
      "      </a>\n",
      "     </span>\n",
      "     <span class=\"tag-item\">\n",
      "      <a class=\"tag\" href=\"/tag/friends/\" style=\"font-size: 8px\">\n",
      "       friends\n",
      "      </a>\n",
      "     </span>\n",
      "     <span class=\"tag-item\">\n",
      "      <a class=\"tag\" href=\"/tag/truth/\" style=\"font-size: 8px\">\n",
      "       truth\n",
      "      </a>\n",
      "     </span>\n",
      "     <span class=\"tag-item\">\n",
      "      <a class=\"tag\" href=\"/tag/simile/\" style=\"font-size: 6px\">\n",
      "       simile\n",
      "      </a>\n",
      "     </span>\n",
      "    </div>\n",
      "   </div>\n",
      "  </div>\n",
      "  <footer class=\"footer\">\n",
      "   <div class=\"container\">\n",
      "    <p class=\"text-muted\">\n",
      "     Quotes by:\n",
      "     <a href=\"https://www.goodreads.com/quotes\">\n",
      "      GoodReads.com\n",
      "     </a>\n",
      "    </p>\n",
      "    <p class=\"copyright\">\n",
      "     Made with\n",
      "     <span class=\"zyte\">\n",
      "      ❤\n",
      "     </span>\n",
      "     by\n",
      "     <a class=\"zyte\" href=\"https://www.zyte.com\">\n",
      "      Zyte\n",
      "     </a>\n",
      "    </p>\n",
      "   </div>\n",
      "  </footer>\n",
      " </body>\n",
      "</html>\n",
      "\n"
     ]
    }
   ],
   "source": [
    "visu = html.prettify()\n",
    "print(visu)"
   ]
  },
  {
   "cell_type": "markdown",
   "id": "714eb6a7-0b84-48a6-8e52-5dbc19a869fd",
   "metadata": {},
   "source": [
    "## Recherche d'un élément par sa balise"
   ]
  },
  {
   "cell_type": "markdown",
   "id": "24c0c29b-5b0e-4e51-b5c6-e952035cc5ab",
   "metadata": {},
   "source": [
    "### Recherche par balise"
   ]
  },
  {
   "cell_type": "markdown",
   "id": "c4adc747-7629-4d63-8889-a72a34db45d0",
   "metadata": {},
   "source": [
    "Pour rechercher un élément par sa balise (par exemple ici le _titre de l'onglet_ déclaré avec la balise `<title>`), on utilise :"
   ]
  },
  {
   "cell_type": "code",
   "execution_count": 11,
   "id": "75237a2b-5b44-4ae7-be34-cd18e7ca2e36",
   "metadata": {},
   "outputs": [
    {
     "name": "stdout",
     "output_type": "stream",
     "text": [
      "Type : <class 'bs4.element.Tag'>\n",
      "Valeur : <h2>Top Ten tags</h2>\n"
     ]
    }
   ],
   "source": [
    "titre = html.find(\"h2\")\n",
    "print(\"Type :\", type(titre))\n",
    "print(\"Valeur :\", titre)"
   ]
  },
  {
   "cell_type": "markdown",
   "id": "a9b7dbaa-be20-402b-a937-fdab38ccf2c7",
   "metadata": {},
   "source": [
    "### Contenu d'un élément"
   ]
  },
  {
   "cell_type": "markdown",
   "id": "77c96312-f7fd-4011-bed2-5290903f95f7",
   "metadata": {},
   "source": [
    "👓 Un élément contient à la fois la balise, ses attributs et le code (texte ou HTML) qu'il encapsule. On peut récupérer différentes informations : "
   ]
  },
  {
   "cell_type": "code",
   "execution_count": 12,
   "id": "881b19cc-7803-44de-b839-94b33049300d",
   "metadata": {},
   "outputs": [
    {
     "name": "stdout",
     "output_type": "stream",
     "text": [
      "Balise : h2\n"
     ]
    }
   ],
   "source": [
    "print(\"Balise :\", titre.name)"
   ]
  },
  {
   "cell_type": "code",
   "execution_count": 7,
   "id": "90f16c4a-6a9d-48bd-a499-afcb35f6574d",
   "metadata": {},
   "outputs": [
    {
     "name": "stdout",
     "output_type": "stream",
     "text": [
      "Code source associé (outerHTML):\n",
      "<title>\n",
      " Quotes to Scrape\n",
      "</title>\n",
      "\n"
     ]
    }
   ],
   "source": [
    "print(\"Code source associé (outerHTML):\")\n",
    "print(titre.prettify())"
   ]
  },
  {
   "cell_type": "code",
   "execution_count": 8,
   "id": "a2986605-b1d8-48d9-9a7e-bb6ea91b1752",
   "metadata": {},
   "outputs": [
    {
     "name": "stdout",
     "output_type": "stream",
     "text": [
      "Contenu textuel (avec suppression des balises):\n"
     ]
    },
    {
     "data": {
      "text/plain": [
       "'Quotes to Scrape'"
      ]
     },
     "execution_count": 8,
     "metadata": {},
     "output_type": "execute_result"
    }
   ],
   "source": [
    "print(\"Contenu textuel (avec suppression des balises):\")\n",
    "titre.text"
   ]
  },
  {
   "cell_type": "markdown",
   "id": "6b401908-89fa-4df8-b593-e5767d54e90c",
   "metadata": {},
   "source": [
    "### Contenu d'un élément encapsulant d'autres éléments HTML"
   ]
  },
  {
   "cell_type": "markdown",
   "id": "c711e0d8-24df-4454-baa3-3ff1fb78f405",
   "metadata": {},
   "source": [
    "L'élément peut encapsuler lui-même plusieurs éléments HTML. Par exemple : "
   ]
  },
  {
   "cell_type": "code",
   "execution_count": 9,
   "id": "f5359838-5f7e-45e7-94ed-d9873b5eef07",
   "metadata": {},
   "outputs": [
    {
     "name": "stdout",
     "output_type": "stream",
     "text": [
      "<footer class=\"footer\">\n",
      " <div class=\"container\">\n",
      "  <p class=\"text-muted\">\n",
      "   Quotes by:\n",
      "   <a href=\"https://www.goodreads.com/quotes\">\n",
      "    GoodReads.com\n",
      "   </a>\n",
      "  </p>\n",
      "  <p class=\"copyright\">\n",
      "   Made with\n",
      "   <span class=\"zyte\">\n",
      "    ❤\n",
      "   </span>\n",
      "   by\n",
      "   <a class=\"zyte\" href=\"https://www.zyte.com\">\n",
      "    Zyte\n",
      "   </a>\n",
      "  </p>\n",
      " </div>\n",
      "</footer>\n",
      "\n"
     ]
    }
   ],
   "source": [
    "pied = html.find(\"footer\")\n",
    "print(pied.prettify())"
   ]
  },
  {
   "cell_type": "code",
   "execution_count": null,
   "id": "606f1202-be95-4567-a619-21774ee98470",
   "metadata": {},
   "outputs": [],
   "source": [
    "print(\"Contenu textuel sans balises:\")\n",
    "pied.text"
   ]
  },
  {
   "cell_type": "markdown",
   "id": "41ec3fc2",
   "metadata": {
    "collapsed": false
   },
   "source": [
    "### Attributs d'un élément"
   ]
  },
  {
   "cell_type": "markdown",
   "id": "1a0cd498-5950-4b3a-9480-cb7467197c8c",
   "metadata": {},
   "source": [
    "On peut aussi d'un élément la valeur de ses attributs avec la méthode `get(<nom_attribut>)`, `<nom_attribut>` pouvant être `\"href\"`, `\"src\"`, `\"class\"`. Par exemple :"
   ]
  },
  {
   "cell_type": "code",
   "execution_count": null,
   "id": "f69cf38f-5436-4717-855d-e6adcb7357e3",
   "metadata": {},
   "outputs": [],
   "source": [
    "pied = html.find(\"footer\")\n",
    "classe = pied.get(\"class\")\n",
    "print(classe)"
   ]
  },
  {
   "cell_type": "markdown",
   "id": "471286dd-8eb0-4936-bc2b-3e580d510b10",
   "metadata": {},
   "source": [
    "⚠️ Si plusieurs éléments de la page sont associées à la recherche, la méthode `find` renvoie le premier trouvé (_première occurrence_) :"
   ]
  },
  {
   "cell_type": "code",
   "execution_count": null,
   "id": "bff31849-bc99-456e-b10c-0c792a9df534",
   "metadata": {},
   "outputs": [],
   "source": [
    "lien = html.find(\"a\")\n",
    "print(lien.prettify())"
   ]
  },
  {
   "cell_type": "markdown",
   "id": "3d39c6ec-61fc-490d-abfe-93484dd41622",
   "metadata": {},
   "source": [
    "## Recherche d'élément par ses attributs"
   ]
  },
  {
   "cell_type": "markdown",
   "id": "2ba16f95-bf24-4a2b-9a5b-870f48d7b3be",
   "metadata": {},
   "source": [
    "Les éléments peuvent être recherchés par leurs attributs avec :\n",
    "\n",
    "```python\n",
    "elmt = html.find(<balise>, attrs={\"<nom_attribut1>\": \"<valeur_attribut1>\",\n",
    "                                  \"<nom_attribut2>\": \"<valeur_attribut2>\", \n",
    "                                  ...})\n",
    "```\n",
    "avec : \n",
    "* la mention de la balise optionnelle\n",
    "* des `<nom_attribut>` pouvant être `\"href\"`, `\"src\"`, `\"class\"`, ..."
   ]
  },
  {
   "cell_type": "markdown",
   "id": "67bae083-35f5-4625-a4fc-58fa0c8155d3",
   "metadata": {},
   "source": [
    "❓Identifiez la balise et la classe de l'élément encapsulant le _copyright_ \"Made with ❤ by Zyte\". Ecrivez le code permettant de récupérer cet élément et d'afficher son contenu (textuel) sur la console."
   ]
  },
  {
   "cell_type": "code",
   "execution_count": null,
   "id": "fa222ec4-018f-49c1-b1e8-aa590d3ae969",
   "metadata": {},
   "outputs": [],
   "source": [
    "# ici le code"
   ]
  },
  {
   "cell_type": "markdown",
   "id": "3fe5b974-5ed7-4bc3-88b6-af4b5f907728",
   "metadata": {},
   "source": [
    "## Recherche de plusieurs éléments"
   ]
  },
  {
   "cell_type": "markdown",
   "id": "45324c4b-db24-408a-a06b-9c6c59d445e2",
   "metadata": {},
   "source": [
    "Pour obtenir tous les éléments associés à la recherche (que ce soit par balise ou par attributs), on utilise la méthode `findAll`. Elle renvoie une **liste** d'éléments, par exemple : "
   ]
  },
  {
   "cell_type": "code",
   "execution_count": null,
   "id": "5ffea268-8597-4df6-96fc-226a75d4c4f2",
   "metadata": {},
   "outputs": [],
   "source": [
    "liens = html.findAll(\"a\")\n",
    "print(\"Nombres de liens trouvés:\", len(liens)) \n",
    "# Quelques informations sur les 5 premiers\n",
    "for i in range(5):\n",
    "    print(f\"Lien {i+1}:\", liens[i].text, \"->\", liens[i].get(\"href\"))"
   ]
  },
  {
   "cell_type": "markdown",
   "id": "bdae00ff-1a3d-4605-988f-445485a7c638",
   "metadata": {},
   "source": [
    "❓Inspectez (avec le navigateur Web) le code source des **citations** : identifiez les balises et les attributs qui leur sont affectées. Ecrivez le code python pour afficher pour toutes les citations de la page automatiquement numérotées sous la forme : \n",
    "\n",
    "```text\n",
    "Citation 1: “The world as we have created it is a process of our thinking. It cannot be changed without changing our thinking.”\n",
    "Citation 2: “It is our choices, Harry, that show what we truly are, far more than our abilities.”\n",
    "Citation 3: “There are only two ways to live your life. One is as though nothing is a miracle. The other is as though everything is a miracle.”\n",
    "\n",
    "```\n",
    "\n",
    "(On ne cherchera pas à récupérer les citations des autres pages du site)...."
   ]
  },
  {
   "cell_type": "code",
   "execution_count": null,
   "id": "294290ba-ef00-43ef-b0ae-7cf2ae6f6415",
   "metadata": {},
   "outputs": [],
   "source": [
    "# ici le code"
   ]
  },
  {
   "cell_type": "markdown",
   "id": "3d924429-67a6-4342-b47e-f46e4d1375c8",
   "metadata": {},
   "source": [
    "## Gestion de l'arborescence de balises"
   ]
  },
  {
   "cell_type": "markdown",
   "id": "1279eae4-c7a8-4213-99f7-c397ac03d7cf",
   "metadata": {},
   "source": [
    "Lorsque l'élément récupéré encapsule du code HTML, par exemple : "
   ]
  },
  {
   "cell_type": "code",
   "execution_count": 10,
   "id": "275469c5-5aef-4e54-8614-29e825392f4b",
   "metadata": {},
   "outputs": [
    {
     "name": "stdout",
     "output_type": "stream",
     "text": [
      "<footer class=\"footer\">\n",
      "<div class=\"container\">\n",
      "<p class=\"text-muted\">\n",
      "                Quotes by: <a href=\"https://www.goodreads.com/quotes\">GoodReads.com</a>\n",
      "</p>\n",
      "<p class=\"copyright\">\n",
      "                Made with <span class=\"zyte\">❤</span> by <a class=\"zyte\" href=\"https://www.zyte.com\">Zyte</a>\n",
      "</p>\n",
      "</div>\n",
      "</footer>\n"
     ]
    }
   ],
   "source": [
    "pied = html.find(\"footer\")\n",
    "print(pied) # affichage du texte sans mention des balises"
   ]
  },
  {
   "cell_type": "markdown",
   "id": "749b3379-afd9-4a7d-a67e-b509cf86c170",
   "metadata": {},
   "source": [
    "On peut accèder à différentes informations sur ses _enfants_ dans le code encapsulé avec :\n",
    "\n",
    "* la méthode `elmt.findChild(<balise>, attrs=<dico_attributs>)`  pour trouver (la première occurrence) d'une balise et de ses attributs\n",
    "* la méthode `elmt.findChildren(<balise_enfant>, attrs=<dico_attributs>)` pour récupérer tous les enfants trouvés dans une **liste**\n",
    "\n",
    "Par exemple :  "
   ]
  },
  {
   "cell_type": "code",
   "execution_count": null,
   "id": "7ac9039e-eed1-4c2b-8356-b8b5cafc3658",
   "metadata": {},
   "outputs": [],
   "source": [
    "coeur = pied.findChild(\"span\", attrs={\"class\", \"zyte\"}) \n",
    "print(coeur.text)"
   ]
  },
  {
   "cell_type": "code",
   "execution_count": null,
   "id": "0c3b6ee6-c16f-41e2-9d82-2e59d0ee3c31",
   "metadata": {},
   "outputs": [],
   "source": [
    "liens = pied.findChildren(\"a\")\n",
    "for lien in liens:\n",
    "    print(lien.text)"
   ]
  },
  {
   "cell_type": "markdown",
   "id": "b0122c0b-a06e-49a6-8412-7c02270de549",
   "metadata": {},
   "source": [
    "❓ Reprenez le code précédent _scrapant_ les citations pour afficher à la fois la citation et son auteur sous la forme : \n",
    "\n",
    "```text\n",
    "Citation 1 (Albert Einstein) : “The world as we have created it is a process of our thinking. It cannot be changed without changing our thinking.”\n",
    "Citation 2 (J.K. Rowling) : “It is our choices, Harry, that show what we truly are, far more than our abilities.”\n",
    "Citation 3 (Albert Einstein) : “There are only two ways to live your life. One is as though nothing is a miracle. The other is as though everything is a miracle.”\n",
    "...\n",
    "```"
   ]
  },
  {
   "cell_type": "code",
   "execution_count": null,
   "id": "a4ac09ef-3b5d-4566-80f1-4de234da873e",
   "metadata": {},
   "outputs": [],
   "source": [
    "# ici le code"
   ]
  },
  {
   "cell_type": "markdown",
   "id": "03d50268-e387-49ef-b0bc-3329f53ca4e7",
   "metadata": {},
   "source": [
    "## Recherche d'élements par règles CSS"
   ]
  },
  {
   "cell_type": "markdown",
   "id": "624b112f-5db2-4b30-b36a-52717a5dc895",
   "metadata": {},
   "source": [
    "La méthode `elmt.select(<selecteur_CSS>)` permet de récupérer tous les élements HTML au sens d'un `<selecteur_CSS>`. On rappele qu'on peut s'appuyer sur l'outil _Inspecter_ pour cibler les sélecteurs CSS intéressants. "
   ]
  },
  {
   "cell_type": "markdown",
   "id": "2f88e8f4-0d7f-4abd-a357-95a2670c4130",
   "metadata": {},
   "source": [
    "Par exemple, pour récupérer les tags de la zone _Top Ten tags_ :"
   ]
  },
  {
   "cell_type": "code",
   "execution_count": null,
   "id": "45b3d146-6959-47cb-a446-8ee7059b4d05",
   "metadata": {},
   "outputs": [],
   "source": [
    "tags = html.select(\"div.tags-box a\") # les liens dans la div qui a pour classe tags-box \n",
    "for tag in tags:\n",
    "    print(tag.text)"
   ]
  },
  {
   "cell_type": "code",
   "execution_count": null,
   "id": "0d7b45f6-039f-47e2-adca-fd3413377051",
   "metadata": {},
   "outputs": [],
   "source": []
  }
 ],
 "metadata": {
  "kernelspec": {
   "display_name": ".venv",
   "language": "python",
   "name": "python3"
  },
  "language_info": {
   "codemirror_mode": {
    "name": "ipython",
    "version": 3
   },
   "file_extension": ".py",
   "mimetype": "text/x-python",
   "name": "python",
   "nbconvert_exporter": "python",
   "pygments_lexer": "ipython3",
   "version": "3.11.5"
  }
 },
 "nbformat": 4,
 "nbformat_minor": 5
}
