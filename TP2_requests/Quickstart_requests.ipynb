{
 "cells": [
  {
   "cell_type": "markdown",
   "id": "b6d9cf42",
   "metadata": {},
   "source": [
    "# Quickstart `requests`\n",
    "\n",
    "&#128512; Impatient de commencer ?\n",
    "\n",
    "Ce notebook sert d'introduction pour démarrer avec le module `requests`. Ceci implique que vous ayez déja `requests` installé. Si ce n'est pas la cas, suivez la section  [Installation](https://fr.python-requests.org/en/latest/user/install.html#install)."
   ]
  },
  {
   "cell_type": "markdown",
   "id": "97481d9a",
   "metadata": {},
   "source": [
    "## Créér une requête\n",
    "\n",
    "Créer une requête standard avec `requests` est très simple. Commençons par importer le module `requests` :"
   ]
  },
  {
   "cell_type": "code",
   "execution_count": null,
   "id": "77b29007",
   "metadata": {},
   "outputs": [],
   "source": [
    "import requests"
   ]
  },
  {
   "cell_type": "markdown",
   "id": "4e6dec2b",
   "metadata": {},
   "source": [
    "Maintenant, essayons de récupérer une page web. Pour cette exemple, récupérons la _timeline_ publique de github:\n"
   ]
  },
  {
   "cell_type": "code",
   "execution_count": null,
   "id": "0148be3f",
   "metadata": {},
   "outputs": [],
   "source": [
    "r = requests.get('https://api.github.com/events')"
   ]
  },
  {
   "cell_type": "markdown",
   "id": "4008530c",
   "metadata": {},
   "source": [
    "Nous récupérons alors un objet **Response** appelé `r`. Celui-ci contient toutes les informations dont nous avons besoin. "
   ]
  },
  {
   "cell_type": "code",
   "execution_count": null,
   "id": "38fceddc",
   "metadata": {},
   "outputs": [],
   "source": [
    "print(r)"
   ]
  },
  {
   "cell_type": "markdown",
   "id": "6adb977b",
   "metadata": {},
   "source": [
    "Une autre requête peut donner un résultat différent bien-sûr en fonction du serveur."
   ]
  },
  {
   "cell_type": "code",
   "execution_count": null,
   "id": "9968e7ae",
   "metadata": {},
   "outputs": [],
   "source": [
    "r = requests.get('https://github.com/timeline.json')\n",
    "print(r)"
   ]
  },
  {
   "cell_type": "markdown",
   "id": "f6ddc705",
   "metadata": {},
   "source": [
    "L’API simple de `requests` permet d’effectuer toute sorte de requête HTTP très simplement. Par exemple, pour faire une requete HTTP POST:"
   ]
  },
  {
   "cell_type": "code",
   "execution_count": null,
   "id": "8042059b",
   "metadata": {},
   "outputs": [],
   "source": [
    "# https://developer.mozilla.org/fr/docs/Web/HTTP/Methods/POST\n",
    "r = requests.post(\"http://httpbin.org/post\")\n",
    "print(r)"
   ]
  },
  {
   "cell_type": "markdown",
   "id": "2261ebb5",
   "metadata": {},
   "source": [
    "Pratique, non?\n",
    "\n",
    "Et pour les autres types de requêtes: PUT, DELETE, HEAD et OPTIONS ? C’est tout aussi simple:"
   ]
  },
  {
   "cell_type": "code",
   "execution_count": null,
   "id": "825771e5",
   "metadata": {},
   "outputs": [],
   "source": [
    "# voir https://developer.mozilla.org/fr/docs/Web/HTTP/Methods/PUT\n",
    "r = requests.put(\"http://httpbin.org/put\")\n",
    "print(r)\n",
    "\n",
    "# https://developer.mozilla.org/fr/docs/Web/HTTP/Methods/DELETE\n",
    "r = requests.delete(\"http://httpbin.org/delete\")\n",
    "print(r)\n",
    "\n",
    "# voir https://developer.mozilla.org/fr/docs/Web/HTTP/Methods/HEAD\n",
    "r = requests.head(\"http://httpbin.org/get\")\n",
    "print(r)\n",
    "\n",
    "# voir https://developer.mozilla.org/fr/docs/Web/HTTP/Methods/OPTIONS\n",
    "r = requests.options(\"http://httpbin.org/get\")\n",
    "print(r)"
   ]
  },
  {
   "cell_type": "markdown",
   "id": "e36fe3dd",
   "metadata": {},
   "source": [
    "Jusqu’ici tout va bien, et c’est juste un petit aperçu de ce que `requests` peut faire."
   ]
  },
  {
   "cell_type": "markdown",
   "id": "463e4bff",
   "metadata": {},
   "source": [
    "## Passer des paramètres dans les URLs\n",
    "\n",
    "Il est fréquent d’avoir besoin de passer des données dans les URLs sous forme de paramètres. En construisant l’URL à la main, ces données devraient être fournies sous forme de clé/valeur dans l’URL après un _point d’interrogation_, par exemple `httpbin.org/get?key=val`. `requests` vous permet de fournir ces arguments sous forme de **dictionnaire**, en utilisant l’argument `params`. Par exemple, si vous souhaitez passer `key1=value1` et `key2=value2` à `httpbin.org/get`, vous pouvez utiliser le code suivant:\n",
    "    "
   ]
  },
  {
   "cell_type": "code",
   "execution_count": null,
   "id": "056d234e",
   "metadata": {},
   "outputs": [],
   "source": [
    "# Passer des paramètres dans les URLs\n",
    "url_params = {'key1': 'value1', \n",
    "              'key2': 'value2'}\n",
    "r = requests.get(\"http://httpbin.org/get\", params=url_params)\n",
    "print(r.url)"
   ]
  },
  {
   "cell_type": "markdown",
   "id": "88172071",
   "metadata": {},
   "source": [
    "## Contenu de la réponse\n",
    "\n",
    "Nous pouvons lire le contenu de la réponse du serveur et améliorer son affichage avec le module `pprint`. Par exemple :"
   ]
  },
  {
   "cell_type": "code",
   "execution_count": null,
   "id": "7a51a68c",
   "metadata": {},
   "outputs": [],
   "source": [
    "from pprint import pprint\n",
    "r = requests.get('https://gricad.univ-grenoble-alpes.fr/')\n",
    "pprint(r.text)"
   ]
  },
  {
   "cell_type": "markdown",
   "id": "d0fb3fe4",
   "metadata": {},
   "source": [
    "Lorsque vous effectuez une requête, `requests` devine l’encodage de la réponse en fonction des en-têtes HTTP. Le texte décodé selon cet encodage est alors accesible via `r.text`. Pour consulter l’encoding que `requests` a utilisé, et le modifier, utilisez la propriété `r.encoding`:"
   ]
  },
  {
   "cell_type": "code",
   "execution_count": null,
   "id": "996d6cbf",
   "metadata": {},
   "outputs": [],
   "source": [
    "r.encoding = 'utf-8'"
   ]
  },
  {
   "cell_type": "markdown",
   "id": "4dfe1f63",
   "metadata": {},
   "source": [
    "Lorsque vous modifiez cette propriété, `requests` utilise la valeur d'encodage configurée pour interpréter `r.text`."
   ]
  },
  {
   "cell_type": "code",
   "execution_count": null,
   "id": "2d428600",
   "metadata": {},
   "outputs": [],
   "source": [
    "pprint(r.text)"
   ]
  },
  {
   "cell_type": "markdown",
   "id": "9961ca34",
   "metadata": {},
   "source": [
    "## Réponse binaire\n",
    "\n",
    "Pour les requêtes dont la réponse n'est pas textuelle (fichiers binaires), vous pouvez accéder au contenu de la réponse sous forme de bytes :"
   ]
  },
  {
   "cell_type": "code",
   "execution_count": null,
   "id": "99d29f95",
   "metadata": {},
   "outputs": [],
   "source": [
    "r = requests.get(\"http://httpbin.org/image/png\")\n",
    "print(r.content)"
   ]
  },
  {
   "cell_type": "markdown",
   "id": "ccf151f0",
   "metadata": {},
   "source": [
    "Par exemple, pour créer une image à partir de données reçues par une requête, vous pouvez utiliser le code suivant (après avoir installé les modules `pillow` et `StringIO`)"
   ]
  },
  {
   "cell_type": "code",
   "execution_count": null,
   "id": "45426c9a",
   "metadata": {},
   "outputs": [],
   "source": [
    "from PIL import Image\n",
    "from io import BytesIO\n",
    "r = requests.get(\"http://httpbin.org/image/png\")\n",
    "image = Image.open(BytesIO(r.content))\n",
    "\n",
    "from IPython.display import display\n",
    "display(image)"
   ]
  },
  {
   "cell_type": "markdown",
   "id": "d1f09111",
   "metadata": {},
   "source": [
    "## Réponse JSON\n",
    "\n",
    "Si vous devez travailler avec des données JSON, `requests` dispose d'un décodeur JSON intégré :"
   ]
  },
  {
   "cell_type": "code",
   "execution_count": null,
   "id": "c6e8e598",
   "metadata": {},
   "outputs": [],
   "source": [
    "r = requests.get('https://api.github.com/events')\n",
    "pprint(r.json())"
   ]
  },
  {
   "cell_type": "markdown",
   "id": "804a55ba",
   "metadata": {},
   "source": [
    "## En-têtes personnalisées\n",
    "\n",
    "Si vous souhaitez ajouter des en-têtes HTTP (_headers_) à une requête, passez simplement un objet de type _dict_ au paramètre headers.\n",
    "\n",
    "Par exemple, pour spécifier un _User-Agent_ :"
   ]
  },
  {
   "cell_type": "code",
   "execution_count": null,
   "id": "0f319654",
   "metadata": {},
   "outputs": [],
   "source": [
    "# En-têtes personnalisées\n",
    "url = \"http://httpbin.org/get\"\n",
    "payload = {'some': 'data'}\n",
    "headers = {'user-agent': 'my-app/0.0.1'}\n",
    "r = requests.get(url, params=payload, headers=headers)\n",
    "pprint(r.json())"
   ]
  },
  {
   "cell_type": "markdown",
   "id": "7eaefc05",
   "metadata": {},
   "source": [
    "## Codes de retour des réponses (status)\n",
    "\n",
    "Nous pouvons vérifier le code de retour d’une réponse :"
   ]
  },
  {
   "cell_type": "code",
   "execution_count": null,
   "id": "902b9e01",
   "metadata": {},
   "outputs": [],
   "source": [
    "r = requests.get('http://httpbin.org/get')\n",
    "r.status_code"
   ]
  },
  {
   "cell_type": "markdown",
   "id": "d9723280",
   "metadata": {},
   "source": [
    "`requests` fournit également un code de statut interne pour faciliter les vérifications :"
   ]
  },
  {
   "cell_type": "code",
   "execution_count": null,
   "id": "019c2b60",
   "metadata": {},
   "outputs": [],
   "source": [
    "r.ok"
   ]
  },
  {
   "cell_type": "markdown",
   "id": "70143f23",
   "metadata": {},
   "source": [
    "Si nous faisons une _mauvaise_ requête (code de retour autre que 200), nous pouvons lever une exception avec `<response>.raise_for_status()` :"
   ]
  },
  {
   "cell_type": "code",
   "execution_count": null,
   "id": "edade59f",
   "metadata": {},
   "outputs": [],
   "source": [
    "bad_r = requests.get('http://httpbin.org/status/404')\n",
    "if bad_r.status_code != 200:\n",
    "    bad_r.raise_for_status()"
   ]
  },
  {
   "cell_type": "markdown",
   "id": "fc935f47",
   "metadata": {},
   "source": [
    "ℹ️ Pour une réponse dont le _status_code_ est 200, lorsque l’on appelle `raise_for_status()`, l'exception n'est pas levée :"
   ]
  },
  {
   "cell_type": "code",
   "execution_count": null,
   "id": "e57e4c77",
   "metadata": {},
   "outputs": [],
   "source": [
    "r = requests.get('http://httpbin.org/get')\n",
    "r.raise_for_status()"
   ]
  },
  {
   "cell_type": "markdown",
   "id": "571753ee",
   "metadata": {},
   "source": [
    "Tout va bien."
   ]
  },
  {
   "cell_type": "markdown",
   "id": "659f637b",
   "metadata": {},
   "source": [
    "## En-têtes des réponses\n",
    "\n",
    "On peut accéder aux en-têtes HTTP (_headers_) de la réponse du serveur via un simple dictionnaire Python:"
   ]
  },
  {
   "cell_type": "code",
   "execution_count": null,
   "id": "886c0f22",
   "metadata": {},
   "outputs": [],
   "source": [
    "r = requests.get('https://gricad.univ-grenoble-alpes.fr/')\n",
    "pprint(r.headers)"
   ]
  },
  {
   "cell_type": "markdown",
   "id": "2f862fd9",
   "metadata": {},
   "source": [
    "❗Ce dictionnaire est cependant particulier : il est spécifique aux en-têtes HTTP, qui selon la RFC 2616, ne doivent pas être sensibles à la **casse**. Nous pouvons donc accéder aux en-têtes quelque soit la casse utilisée :"
   ]
  },
  {
   "cell_type": "code",
   "execution_count": null,
   "id": "b3052e51",
   "metadata": {},
   "outputs": [],
   "source": [
    "pprint(r.headers['Content-Type'])\n",
    "pprint(r.headers['content-type'])"
   ]
  },
  {
   "cell_type": "markdown",
   "id": "1f94374f",
   "metadata": {},
   "source": [
    "## Requêtes POST avancées\n",
    "\n",
    "Généralement, vous souhaitez envoyer des données encodées, comme dans un formulaire HTML. Pour cela, il suffit de passer un dictionnaire à l'argument `data`. Votre dictionnaire de données sera automatiquement encodé au moment de la requête :"
   ]
  },
  {
   "cell_type": "code",
   "execution_count": null,
   "id": "36444db3",
   "metadata": {},
   "outputs": [],
   "source": [
    "payload = {'key1': 'value1', \n",
    "           'key2': 'value2'}\n",
    "r = requests.post(\"http://httpbin.org/post\", data=payload)\n",
    "print(r.text)"
   ]
  },
  {
   "cell_type": "markdown",
   "id": "1587bcaa",
   "metadata": {},
   "source": [
    "L'argument `data` peut également comporter plusieurs valeurs pour chaque clé. Pour ce faire, les données peuvent être soit une liste de tuples, soit un dictionnaire avec des listes comme valeurs. Cela s'avère particulièrement utile lorsque le formulaire comporte plusieurs éléments utilisant la même clé :"
   ]
  },
  {
   "cell_type": "code",
   "execution_count": null,
   "id": "fd3e643d",
   "metadata": {},
   "outputs": [],
   "source": [
    "payload_tuples = [('key1', 'value1'), ('key1', 'value2')]\n",
    "r1 = requests.post('https://httpbin.org/post', data=payload_tuples)\n",
    "payload_dict = {'key1': ['value1', 'value2']}\n",
    "r2 = requests.post('https://httpbin.org/post', data=payload_dict)\n",
    "print(r1.text)"
   ]
  },
  {
   "cell_type": "code",
   "execution_count": null,
   "id": "2e8bfe6d",
   "metadata": {},
   "outputs": [],
   "source": [
    "print(r2.json()['form'])\n",
    "r1.json()['form'] == r2.json()['form']"
   ]
  },
  {
   "cell_type": "markdown",
   "id": "b45ae682",
   "metadata": {},
   "source": [
    "## POST de fichiers Multipart\n",
    "\n",
    "`requests` simplifie l’upload de fichiers encodés en _MultiPart_ :"
   ]
  },
  {
   "cell_type": "code",
   "execution_count": null,
   "id": "d2f946e4",
   "metadata": {},
   "outputs": [],
   "source": [
    "url = 'http://httpbin.org/post'\n",
    "files = {'file': open('report.xls', 'rb')}\n",
    "\n",
    "r = requests.post(url, files=files)\n",
    "r.text"
   ]
  },
  {
   "cell_type": "markdown",
   "id": "da5a0da5",
   "metadata": {},
   "source": [
    "Pour forcer le nom du fichier explicitement :"
   ]
  },
  {
   "cell_type": "code",
   "execution_count": null,
   "id": "4da45309",
   "metadata": {},
   "outputs": [],
   "source": [
    "url = 'http://httpbin.org/post'\n",
    "files = {'file': ('report.xls', open('report.xls', 'rb'))}\n",
    "\n",
    "r = requests.post(url, files=files)\n",
    "r.text"
   ]
  },
  {
   "cell_type": "markdown",
   "id": "8db97deb",
   "metadata": {},
   "source": [
    "Vous pouvez également envoyer des chaînes de caractères en tant que fichier :"
   ]
  },
  {
   "cell_type": "code",
   "execution_count": null,
   "id": "b224606a",
   "metadata": {},
   "outputs": [],
   "source": [
    "url = 'http://httpbin.org/post'\n",
    "files = {'file': ('report.csv', 'some,data,to,send\\nanother,row,to,send\\n')}\n",
    "\n",
    "r = requests.post(url, files=files)\n",
    "pprint(r.text)"
   ]
  },
  {
   "cell_type": "markdown",
   "id": "6fcfaf11",
   "metadata": {},
   "source": [
    "## Authentication basique\n",
    "\n",
    "La plupart des services web nécessitent une authentification. Il y a différents types d’authentification, mais la plus commune est l’authentification HTTP basique. Utiliser l’authentification basique avec `requests` est extrêmement simple :\n"
   ]
  },
  {
   "cell_type": "code",
   "execution_count": null,
   "id": "13905d61",
   "metadata": {},
   "outputs": [],
   "source": [
    "from requests.auth import HTTPBasicAuth\n",
    "requests.get('https://api.github.com/user', auth=HTTPBasicAuth('user', 'pass'))"
   ]
  },
  {
   "cell_type": "markdown",
   "id": "40769b9a",
   "metadata": {},
   "source": [
    "Comme l’authentification HTTP basique est le standard le plus répandu, `requests` fournit un raccourci pour cette méthode d’authentification :"
   ]
  },
  {
   "cell_type": "code",
   "execution_count": null,
   "id": "8b383687",
   "metadata": {},
   "outputs": [],
   "source": [
    "r = requests.get('http://httpbin.org/basic-auth/its-me/my_password', auth=('its-me', 'my_password'))\n",
    "print(r.text)"
   ]
  },
  {
   "cell_type": "markdown",
   "id": "c4b4db5d",
   "metadata": {},
   "source": [
    "## Authentification Digest\n",
    "\n",
    "Une autre forme populaire de protection des web services est l’authentification Digest :"
   ]
  },
  {
   "cell_type": "code",
   "execution_count": null,
   "id": "1d465ca6",
   "metadata": {},
   "outputs": [],
   "source": [
    "from requests.auth import HTTPDigestAuth\n",
    "url = 'http://httpbin.org/digest-auth/auth/user/pass'\n",
    "requests.get(url, auth=HTTPDigestAuth('user', 'pass'))"
   ]
  },
  {
   "cell_type": "markdown",
   "id": "8f58ddfc",
   "metadata": {},
   "source": [
    "## Cookies\n",
    "\n",
    "Pour envoyer vos propres cookies au serveur, vous pouvez utiliser le paramètre cookies :"
   ]
  },
  {
   "cell_type": "code",
   "execution_count": null,
   "id": "d111533e",
   "metadata": {},
   "outputs": [],
   "source": [
    "cookies = dict(cookies_are='working')\n",
    "r = requests.get('https://httpbin.org/cookies', cookies=cookies)\n",
    "print(r.text)"
   ]
  },
  {
   "cell_type": "markdown",
   "id": "c73ed6c7",
   "metadata": {},
   "source": [
    "Have Fun ! 👏"
   ]
  }
 ],
 "metadata": {
  "kernelspec": {
   "display_name": "Python 3 (ipykernel)",
   "language": "python",
   "name": "python3"
  },
  "language_info": {
   "codemirror_mode": {
    "name": "ipython",
    "version": 3
   },
   "file_extension": ".py",
   "mimetype": "text/x-python",
   "name": "python",
   "nbconvert_exporter": "python",
   "pygments_lexer": "ipython3",
   "version": "3.9.13"
  },
  "varInspector": {
   "cols": {
    "lenName": 16,
    "lenType": 16,
    "lenVar": 40
   },
   "kernels_config": {
    "python": {
     "delete_cmd_postfix": "",
     "delete_cmd_prefix": "del ",
     "library": "var_list.py",
     "varRefreshCmd": "print(var_dic_list())"
    },
    "r": {
     "delete_cmd_postfix": ") ",
     "delete_cmd_prefix": "rm(",
     "library": "var_list.r",
     "varRefreshCmd": "cat(var_dic_list()) "
    }
   },
   "types_to_exclude": [
    "module",
    "function",
    "builtin_function_or_method",
    "instance",
    "_Feature"
   ],
   "window_display": false
  }
 },
 "nbformat": 4,
 "nbformat_minor": 5
}
