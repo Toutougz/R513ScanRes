{
 "cells": [
  {
   "cell_type": "markdown",
   "metadata": {},
   "source": [
    "# Requete vers les application flask HTTP"
   ]
  },
  {
   "cell_type": "markdown",
   "metadata": {},
   "source": []
  },
  {
   "cell_type": "code",
   "execution_count": 7,
   "metadata": {},
   "outputs": [
    {
     "name": "stdout",
     "output_type": "stream",
     "text": [
      "\n",
      "\n",
      "\n",
      "\n",
      "    \n",
      "        \n",
      "        \n",
      "        R5.13-Welcome\n",
      "        \n",
      "            .flash { margin: 5px; padding: 15px; background-color: lightsteelblue;\n",
      "                     color: white; border-radius: 15px; font-weight: bold; }\n",
      "        \n",
      "    \n",
      "\n",
      "    \n",
      "        \n",
      "        \n",
      "            \n",
      "        \n",
      "        \n",
      "    Welcome to Quentin's web server.\n",
      "\n",
      "        \n",
      "    \n",
      "\n",
      "\n",
      "\n"
     ]
    }
   ],
   "source": [
    "import requests\n",
    "import re\n",
    "r = requests.get('http://localhost:5000')\n",
    "htmlpage = r.text\n",
    "contentOnly = re.sub(r'<[^>]*>', '', htmlpage)\n",
    "print(contentOnly)"
   ]
  },
  {
   "cell_type": "code",
   "execution_count": null,
   "metadata": {},
   "outputs": [],
   "source": []
  }
 ],
 "metadata": {
  "kernelspec": {
   "display_name": ".venv",
   "language": "python",
   "name": "python3"
  },
  "language_info": {
   "codemirror_mode": {
    "name": "ipython",
    "version": 3
   },
   "file_extension": ".py",
   "mimetype": "text/x-python",
   "name": "python",
   "nbconvert_exporter": "python",
   "pygments_lexer": "ipython3",
   "version": "3.11.5"
  }
 },
 "nbformat": 4,
 "nbformat_minor": 2
}
